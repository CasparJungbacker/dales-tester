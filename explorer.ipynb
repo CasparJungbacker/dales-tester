{
 "cells": [
  {
   "cell_type": "code",
   "execution_count": null,
   "id": "02d99547-4d27-4d84-b08d-91774caf0e93",
   "metadata": {},
   "outputs": [],
   "source": [
    "import matplotlib.pyplot as plt\n",
    "import numpy as np\n",
    "import xarray as xr\n",
    "import glob\n",
    "import ipywidgets as widgets"
   ]
  },
  {
   "cell_type": "markdown",
   "id": "9adcea0b-2d36-49ab-9e65-c1c7da62d976",
   "metadata": {},
   "source": [
    "# Time series"
   ]
  },
  {
   "cell_type": "code",
   "execution_count": null,
   "id": "573420df-5308-4f69-88ab-a7a268b93e9e",
   "metadata": {},
   "outputs": [],
   "source": [
    "runs = glob.glob(\n",
    "    \"/Users/caspar/Developer/mscthesis/data/cases/bomex/output-gcc/run*/tmser.001.nc\"\n",
    ")\n",
    "ensemble = xr.open_mfdataset(runs, combine=\"nested\", concat_dim=\"run\")\n",
    "\n",
    "nvidia = xr.open_dataset(\n",
    "    \"/Users/caspar/Developer/mscthesis/data/cases/bomex/output-nvidia/tmser.001.nc\"\n",
    ")"
   ]
  },
  {
   "cell_type": "code",
   "execution_count": null,
   "id": "0e6e3231-56c6-4264-8a72-52438b6f8f87",
   "metadata": {},
   "outputs": [],
   "source": [
    "variable_menu = widgets.Dropdown(\n",
    "    options=list(nvidia.keys()),\n",
    "    description=\"Variable\"\n",
    ")\n",
    "\n",
    "ui = widgets.HBox([variable_menu])\n",
    "\n",
    "def update(variable: str) -> None:\n",
    "    mean = ensemble[variable].mean(dim=\"run\")\n",
    "    var = ensemble[variable].var(dim=\"run\")\n",
    "    \n",
    "    fix, ax = plt.subplots()\n",
    "    mean.plot.line(x=\"time\", ax=ax)\n",
    "    ax.fill_between(\n",
    "        x=var[\"time\"], y1=(2 * np.sqrt(var)) + mean, y2=(-2 * np.sqrt(var)) + mean\n",
    "    )\n",
    "    nvidia[variable].plot(x=\"time\", ax=ax)\n",
    "    \n",
    "out = widgets.interactive_output(update, {'variable': variable_menu})\n",
    "\n",
    "display(ui, out)"
   ]
  },
  {
   "cell_type": "markdown",
   "id": "17cb1de9-2405-4f71-a8ea-f088a69eab32",
   "metadata": {},
   "source": [
    "# Profiles"
   ]
  },
  {
   "cell_type": "code",
   "execution_count": null,
   "id": "1d963b83-f4fc-440b-9367-d30f348dbfb6",
   "metadata": {},
   "outputs": [],
   "source": [
    "runs = glob.glob(\n",
    "    \"/Users/caspar/Developer/mscthesis/data/cases/bomex/output-gcc/run*/profiles.001.nc\"\n",
    ")\n",
    "ensemble = xr.open_mfdataset(runs, combine=\"nested\", concat_dim=\"run\")\n",
    "\n",
    "nvidia = xr.open_dataset(\n",
    "    \"/Users/caspar/Developer/mscthesis/data/cases/bomex/output-nvidia/profiles.001.nc\"\n",
    ")"
   ]
  },
  {
   "cell_type": "code",
   "execution_count": null,
   "id": "f78b06f9-cbc3-4bef-8ca3-98cf613bf508",
   "metadata": {},
   "outputs": [],
   "source": [
    "variable_menu = widgets.Dropdown(\n",
    "    options=list(nvidia.keys()),\n",
    "    description=\"Variable\"\n",
    ")\n",
    "\n",
    "timestamps_menu = widgets.IntSlider(\n",
    "    value=0,\n",
    "    min=0,\n",
    "    max=len(ensemble.time),\n",
    "    step=1,\n",
    "    description=\"Timestamp\",\n",
    "    continuous_update=False,\n",
    "    orientation=\"horizontal\"\n",
    ")\n",
    "\n",
    "ui = widgets.HBox([variable_menu, timestamps_menu])\n",
    "\n",
    "def update(variable: str, time: int) -> None:\n",
    "    mean = ensemble[variable].isel(time=time).mean(dim=\"run\")\n",
    "    var = ensemble[variable].isel(time=time).var(dim=\"run\")\n",
    "    \n",
    "    fix, ax = plt.subplots()\n",
    "    try:\n",
    "        mean.plot.line(y=\"zt\", ax=ax, label=\"GCC ensemble\")\n",
    "        ax.fill_betweenx(\n",
    "            y=var[\"zt\"], x1=(2 * np.sqrt(var)) + mean, x2=(-2 * np.sqrt(var)) + mean\n",
    "        )\n",
    "        nvidia[variable].isel(time=time).plot.line(y=\"zt\", ax=ax, label=\"OpenACC\")\n",
    "    except:\n",
    "        mean.plot.line(y=\"zm\", ax=ax, label=\"GCC ensemble\")\n",
    "        ax.fill_betweenx(\n",
    "            y=var[\"zm\"], x1=(2 * np.sqrt(var)) + mean, x2=(-2 * np.sqrt(var)) + mean\n",
    "        )\n",
    "        nvidia[variable].isel(time=time).plot.line(y=\"zm\", ax=ax, label=\"OpenACC\")\n",
    "    ax.legend()\n",
    "\n",
    "out = widgets.interactive_output(update, {'variable': variable_menu, 'time': timestamps_menu})\n",
    "\n",
    "display(ui, out)"
   ]
  }
 ],
 "metadata": {
  "kernelspec": {
   "display_name": "Python 3 (ipykernel)",
   "language": "python",
   "name": "python3"
  },
  "language_info": {
   "codemirror_mode": {
    "name": "ipython",
    "version": 3
   },
   "file_extension": ".py",
   "mimetype": "text/x-python",
   "name": "python",
   "nbconvert_exporter": "python",
   "pygments_lexer": "ipython3",
   "version": "3.9.13"
  }
 },
 "nbformat": 4,
 "nbformat_minor": 5
}
